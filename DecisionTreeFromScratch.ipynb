{
 "cells": [
  {
   "cell_type": "code",
   "execution_count": 52,
   "id": "0ac4af71",
   "metadata": {},
   "outputs": [],
   "source": [
    "%matplotlib inline\n",
    "import numpy as np\n",
    "import pandas as pd\n",
    "from sklearn.model_selection import train_test_split\n",
    "import seaborn as sns\n",
    "import treelib\n",
    "from treelib import Node, Tree\n",
    "from sklearn.impute import SimpleImputer\n",
    "from sklearn.tree import DecisionTreeClassifier\n",
    "from sklearn.model_selection import train_test_split\n",
    "from sklearn.preprocessing import OrdinalEncoder"
   ]
  },
  {
   "cell_type": "code",
   "execution_count": 2,
   "id": "7a0f5467",
   "metadata": {},
   "outputs": [],
   "source": [
    "data=pd.read_csv(\"house-votes-84.csv\")"
   ]
  },
  {
   "cell_type": "code",
   "execution_count": 3,
   "id": "170940bc",
   "metadata": {},
   "outputs": [
    {
     "data": {
      "text/html": [
       "<div>\n",
       "<style scoped>\n",
       "    .dataframe tbody tr th:only-of-type {\n",
       "        vertical-align: middle;\n",
       "    }\n",
       "\n",
       "    .dataframe tbody tr th {\n",
       "        vertical-align: top;\n",
       "    }\n",
       "\n",
       "    .dataframe thead th {\n",
       "        text-align: right;\n",
       "    }\n",
       "</style>\n",
       "<table border=\"1\" class=\"dataframe\">\n",
       "  <thead>\n",
       "    <tr style=\"text-align: right;\">\n",
       "      <th></th>\n",
       "      <th>Class Name</th>\n",
       "      <th>handicapped-infants</th>\n",
       "      <th>water-project-cost-sharing</th>\n",
       "      <th>adoption-of-the-budget-resolution</th>\n",
       "      <th>physician-fee-freeze</th>\n",
       "      <th>el-salvador-aid</th>\n",
       "      <th>religious-groups-in-schools</th>\n",
       "      <th>anti-satellite-test-ban</th>\n",
       "      <th>aid-to-nicaraguan-contras</th>\n",
       "      <th>mx-missile</th>\n",
       "      <th>immigration</th>\n",
       "      <th>synfuels-corporation-cutback</th>\n",
       "      <th>education-spending</th>\n",
       "      <th>superfund-right-to-sue</th>\n",
       "      <th>crime</th>\n",
       "      <th>duty-free-exports</th>\n",
       "      <th>export-administration-act-south-africa</th>\n",
       "    </tr>\n",
       "  </thead>\n",
       "  <tbody>\n",
       "    <tr>\n",
       "      <th>0</th>\n",
       "      <td>republican</td>\n",
       "      <td>n</td>\n",
       "      <td>y</td>\n",
       "      <td>n</td>\n",
       "      <td>y</td>\n",
       "      <td>y</td>\n",
       "      <td>y</td>\n",
       "      <td>n</td>\n",
       "      <td>n</td>\n",
       "      <td>n</td>\n",
       "      <td>y</td>\n",
       "      <td>?</td>\n",
       "      <td>y</td>\n",
       "      <td>y</td>\n",
       "      <td>y</td>\n",
       "      <td>n</td>\n",
       "      <td>y</td>\n",
       "    </tr>\n",
       "    <tr>\n",
       "      <th>1</th>\n",
       "      <td>republican</td>\n",
       "      <td>n</td>\n",
       "      <td>y</td>\n",
       "      <td>n</td>\n",
       "      <td>y</td>\n",
       "      <td>y</td>\n",
       "      <td>y</td>\n",
       "      <td>n</td>\n",
       "      <td>n</td>\n",
       "      <td>n</td>\n",
       "      <td>n</td>\n",
       "      <td>n</td>\n",
       "      <td>y</td>\n",
       "      <td>y</td>\n",
       "      <td>y</td>\n",
       "      <td>n</td>\n",
       "      <td>?</td>\n",
       "    </tr>\n",
       "    <tr>\n",
       "      <th>2</th>\n",
       "      <td>democrat</td>\n",
       "      <td>?</td>\n",
       "      <td>y</td>\n",
       "      <td>y</td>\n",
       "      <td>?</td>\n",
       "      <td>y</td>\n",
       "      <td>y</td>\n",
       "      <td>n</td>\n",
       "      <td>n</td>\n",
       "      <td>n</td>\n",
       "      <td>n</td>\n",
       "      <td>y</td>\n",
       "      <td>n</td>\n",
       "      <td>y</td>\n",
       "      <td>y</td>\n",
       "      <td>n</td>\n",
       "      <td>n</td>\n",
       "    </tr>\n",
       "    <tr>\n",
       "      <th>3</th>\n",
       "      <td>democrat</td>\n",
       "      <td>n</td>\n",
       "      <td>y</td>\n",
       "      <td>y</td>\n",
       "      <td>n</td>\n",
       "      <td>?</td>\n",
       "      <td>y</td>\n",
       "      <td>n</td>\n",
       "      <td>n</td>\n",
       "      <td>n</td>\n",
       "      <td>n</td>\n",
       "      <td>y</td>\n",
       "      <td>n</td>\n",
       "      <td>y</td>\n",
       "      <td>n</td>\n",
       "      <td>n</td>\n",
       "      <td>y</td>\n",
       "    </tr>\n",
       "    <tr>\n",
       "      <th>4</th>\n",
       "      <td>democrat</td>\n",
       "      <td>y</td>\n",
       "      <td>y</td>\n",
       "      <td>y</td>\n",
       "      <td>n</td>\n",
       "      <td>y</td>\n",
       "      <td>y</td>\n",
       "      <td>n</td>\n",
       "      <td>n</td>\n",
       "      <td>n</td>\n",
       "      <td>n</td>\n",
       "      <td>y</td>\n",
       "      <td>?</td>\n",
       "      <td>y</td>\n",
       "      <td>y</td>\n",
       "      <td>y</td>\n",
       "      <td>y</td>\n",
       "    </tr>\n",
       "  </tbody>\n",
       "</table>\n",
       "</div>"
      ],
      "text/plain": [
       "   Class Name  handicapped-infants  water-project-cost-sharing  \\\n",
       "0  republican                    n                           y   \n",
       "1  republican                    n                           y   \n",
       "2    democrat                    ?                           y   \n",
       "3    democrat                    n                           y   \n",
       "4    democrat                    y                           y   \n",
       "\n",
       "   adoption-of-the-budget-resolution  physician-fee-freeze  el-salvador-aid  \\\n",
       "0                                  n                     y                y   \n",
       "1                                  n                     y                y   \n",
       "2                                  y                     ?                y   \n",
       "3                                  y                     n                ?   \n",
       "4                                  y                     n                y   \n",
       "\n",
       "   religious-groups-in-schools  anti-satellite-test-ban  \\\n",
       "0                            y                        n   \n",
       "1                            y                        n   \n",
       "2                            y                        n   \n",
       "3                            y                        n   \n",
       "4                            y                        n   \n",
       "\n",
       "   aid-to-nicaraguan-contras  mx-missile  immigration  \\\n",
       "0                          n           n            y   \n",
       "1                          n           n            n   \n",
       "2                          n           n            n   \n",
       "3                          n           n            n   \n",
       "4                          n           n            n   \n",
       "\n",
       "   synfuels-corporation-cutback  education-spending  superfund-right-to-sue  \\\n",
       "0                             ?                   y                       y   \n",
       "1                             n                   y                       y   \n",
       "2                             y                   n                       y   \n",
       "3                             y                   n                       y   \n",
       "4                             y                   ?                       y   \n",
       "\n",
       "   crime  duty-free-exports  export-administration-act-south-africa  \n",
       "0      y                  n                                       y  \n",
       "1      y                  n                                       ?  \n",
       "2      y                  n                                       n  \n",
       "3      n                  n                                       y  \n",
       "4      y                  y                                       y  "
      ]
     },
     "execution_count": 3,
     "metadata": {},
     "output_type": "execute_result"
    }
   ],
   "source": [
    "data.head()"
   ]
  },
  {
   "cell_type": "code",
   "execution_count": 4,
   "id": "16454c05",
   "metadata": {},
   "outputs": [],
   "source": [
    "originalColumnNames=list(data.columns)"
   ]
  },
  {
   "cell_type": "markdown",
   "id": "6b9fc8ea",
   "metadata": {},
   "source": [
    "#### Rename Colunms"
   ]
  },
  {
   "cell_type": "code",
   "execution_count": 5,
   "id": "f1de5cd9",
   "metadata": {},
   "outputs": [],
   "source": [
    "Columns={}\n",
    "index=0\n",
    "for col in list(data.columns):\n",
    "    Columns[col]=\"f\"+str(index)\n",
    "    index+=1\n",
    "data=data.rename(columns=Columns)"
   ]
  },
  {
   "cell_type": "markdown",
   "id": "882e1275",
   "metadata": {},
   "source": [
    "#### Add Label Column"
   ]
  },
  {
   "cell_type": "code",
   "execution_count": null,
   "id": "769a75d2",
   "metadata": {},
   "outputs": [],
   "source": [
    "def getLabel(Class):\n",
    "    if Class==\"democrat\":\n",
    "        return 1\n",
    "    else:\n",
    "        return 0"
   ]
  },
  {
   "cell_type": "code",
   "execution_count": 7,
   "id": "56438be3",
   "metadata": {},
   "outputs": [],
   "source": [
    "data[\"Label\"]=data.f0.apply(lambda x: 1 if x=='democrat' else 0)"
   ]
  },
  {
   "cell_type": "code",
   "execution_count": 9,
   "id": "4727d925",
   "metadata": {},
   "outputs": [],
   "source": [
    "data=data.drop(columns=['f0'])"
   ]
  },
  {
   "cell_type": "code",
   "execution_count": 10,
   "id": "a3697ae2",
   "metadata": {},
   "outputs": [
    {
     "data": {
      "text/html": [
       "<div>\n",
       "<style scoped>\n",
       "    .dataframe tbody tr th:only-of-type {\n",
       "        vertical-align: middle;\n",
       "    }\n",
       "\n",
       "    .dataframe tbody tr th {\n",
       "        vertical-align: top;\n",
       "    }\n",
       "\n",
       "    .dataframe thead th {\n",
       "        text-align: right;\n",
       "    }\n",
       "</style>\n",
       "<table border=\"1\" class=\"dataframe\">\n",
       "  <thead>\n",
       "    <tr style=\"text-align: right;\">\n",
       "      <th></th>\n",
       "      <th>f1</th>\n",
       "      <th>f2</th>\n",
       "      <th>f3</th>\n",
       "      <th>f4</th>\n",
       "      <th>f5</th>\n",
       "      <th>f6</th>\n",
       "      <th>f7</th>\n",
       "      <th>f8</th>\n",
       "      <th>f9</th>\n",
       "      <th>f10</th>\n",
       "      <th>f11</th>\n",
       "      <th>f12</th>\n",
       "      <th>f13</th>\n",
       "      <th>f14</th>\n",
       "      <th>f15</th>\n",
       "      <th>f16</th>\n",
       "      <th>Label</th>\n",
       "    </tr>\n",
       "  </thead>\n",
       "  <tbody>\n",
       "    <tr>\n",
       "      <th>0</th>\n",
       "      <td>n</td>\n",
       "      <td>y</td>\n",
       "      <td>n</td>\n",
       "      <td>y</td>\n",
       "      <td>y</td>\n",
       "      <td>y</td>\n",
       "      <td>n</td>\n",
       "      <td>n</td>\n",
       "      <td>n</td>\n",
       "      <td>y</td>\n",
       "      <td>?</td>\n",
       "      <td>y</td>\n",
       "      <td>y</td>\n",
       "      <td>y</td>\n",
       "      <td>n</td>\n",
       "      <td>y</td>\n",
       "      <td>0</td>\n",
       "    </tr>\n",
       "    <tr>\n",
       "      <th>1</th>\n",
       "      <td>n</td>\n",
       "      <td>y</td>\n",
       "      <td>n</td>\n",
       "      <td>y</td>\n",
       "      <td>y</td>\n",
       "      <td>y</td>\n",
       "      <td>n</td>\n",
       "      <td>n</td>\n",
       "      <td>n</td>\n",
       "      <td>n</td>\n",
       "      <td>n</td>\n",
       "      <td>y</td>\n",
       "      <td>y</td>\n",
       "      <td>y</td>\n",
       "      <td>n</td>\n",
       "      <td>?</td>\n",
       "      <td>0</td>\n",
       "    </tr>\n",
       "    <tr>\n",
       "      <th>2</th>\n",
       "      <td>?</td>\n",
       "      <td>y</td>\n",
       "      <td>y</td>\n",
       "      <td>?</td>\n",
       "      <td>y</td>\n",
       "      <td>y</td>\n",
       "      <td>n</td>\n",
       "      <td>n</td>\n",
       "      <td>n</td>\n",
       "      <td>n</td>\n",
       "      <td>y</td>\n",
       "      <td>n</td>\n",
       "      <td>y</td>\n",
       "      <td>y</td>\n",
       "      <td>n</td>\n",
       "      <td>n</td>\n",
       "      <td>1</td>\n",
       "    </tr>\n",
       "    <tr>\n",
       "      <th>3</th>\n",
       "      <td>n</td>\n",
       "      <td>y</td>\n",
       "      <td>y</td>\n",
       "      <td>n</td>\n",
       "      <td>?</td>\n",
       "      <td>y</td>\n",
       "      <td>n</td>\n",
       "      <td>n</td>\n",
       "      <td>n</td>\n",
       "      <td>n</td>\n",
       "      <td>y</td>\n",
       "      <td>n</td>\n",
       "      <td>y</td>\n",
       "      <td>n</td>\n",
       "      <td>n</td>\n",
       "      <td>y</td>\n",
       "      <td>1</td>\n",
       "    </tr>\n",
       "    <tr>\n",
       "      <th>4</th>\n",
       "      <td>y</td>\n",
       "      <td>y</td>\n",
       "      <td>y</td>\n",
       "      <td>n</td>\n",
       "      <td>y</td>\n",
       "      <td>y</td>\n",
       "      <td>n</td>\n",
       "      <td>n</td>\n",
       "      <td>n</td>\n",
       "      <td>n</td>\n",
       "      <td>y</td>\n",
       "      <td>?</td>\n",
       "      <td>y</td>\n",
       "      <td>y</td>\n",
       "      <td>y</td>\n",
       "      <td>y</td>\n",
       "      <td>1</td>\n",
       "    </tr>\n",
       "  </tbody>\n",
       "</table>\n",
       "</div>"
      ],
      "text/plain": [
       "  f1 f2 f3 f4 f5 f6 f7 f8 f9 f10 f11 f12 f13 f14 f15 f16  Label\n",
       "0  n  y  n  y  y  y  n  n  n   y   ?   y   y   y   n   y      0\n",
       "1  n  y  n  y  y  y  n  n  n   n   n   y   y   y   n   ?      0\n",
       "2  ?  y  y  ?  y  y  n  n  n   n   y   n   y   y   n   n      1\n",
       "3  n  y  y  n  ?  y  n  n  n   n   y   n   y   n   n   y      1\n",
       "4  y  y  y  n  y  y  n  n  n   n   y   ?   y   y   y   y      1"
      ]
     },
     "execution_count": 10,
     "metadata": {},
     "output_type": "execute_result"
    }
   ],
   "source": [
    "data.head()"
   ]
  },
  {
   "cell_type": "markdown",
   "id": "b0412cc1",
   "metadata": {},
   "source": [
    "### An Interesting Imputation Problem\n",
    "\n",
    "The data set has many question marks, apparently when the congressmember did not vote on a particular bill.  Since this project is more about creating the tree, I chose to replace \"?\" with the majority vote within the party that a particular congressmember resides.\n",
    "\n",
    "I do not think that this is the best possible imputation strategy, since there are some bills that do not have a strict party line vote.  A good example of this is the mx-missle bill."
   ]
  },
  {
   "cell_type": "code",
   "execution_count": 11,
   "id": "ccf07ea7",
   "metadata": {},
   "outputs": [],
   "source": [
    "republicans=data[data[\"Label\"]==0]\n",
    "democrats=data[data[\"Label\"]==1]"
   ]
  },
  {
   "cell_type": "code",
   "execution_count": 12,
   "id": "77ecd1d4",
   "metadata": {},
   "outputs": [
    {
     "name": "stdout",
     "output_type": "stream",
     "text": [
      " mx-missile\n",
      "repubs\n",
      "y    92\n",
      "n    73\n",
      "?     3\n",
      "Name: f10, dtype: int64\n",
      "dems\n",
      "n    139\n",
      "y    124\n",
      "?      4\n",
      "Name: f10, dtype: int64\n"
     ]
    }
   ],
   "source": [
    "print(originalColumnNames[9])\n",
    "print(\"repubs\")\n",
    "print(republicans[\"f10\"].value_counts())\n",
    "print(\"dems\")\n",
    "print(democrats[\"f10\"].value_counts())"
   ]
  },
  {
   "cell_type": "code",
   "execution_count": 17,
   "id": "39b02003",
   "metadata": {},
   "outputs": [],
   "source": [
    "demImputer = SimpleImputer(missing_values=\"?\", strategy='most_frequent')\n",
    "repImputer = SimpleImputer(missing_values=\"?\", strategy='most_frequent')"
   ]
  },
  {
   "cell_type": "code",
   "execution_count": 18,
   "id": "d374374a",
   "metadata": {},
   "outputs": [
    {
     "data": {
      "text/plain": [
       "SimpleImputer(missing_values='?', strategy='most_frequent')"
      ]
     },
     "execution_count": 18,
     "metadata": {},
     "output_type": "execute_result"
    }
   ],
   "source": [
    "demImputer.fit(democrats)\n",
    "repImputer.fit(republicans)"
   ]
  },
  {
   "cell_type": "code",
   "execution_count": 19,
   "id": "0f7e3da4",
   "metadata": {},
   "outputs": [],
   "source": [
    "democrats=pd.DataFrame(demImputer.transform(democrats), columns=democrats.columns)\n",
    "republicans=pd.DataFrame(repImputer.transform(republicans), columns=republicans.columns)"
   ]
  },
  {
   "cell_type": "code",
   "execution_count": 37,
   "id": "87065e1a",
   "metadata": {},
   "outputs": [],
   "source": [
    "data=pd.concat([republicans, democrats], ignore_index=True)\n",
    "data=data.sample(n=435, replace=False).reset_index().drop(columns={\"index\"})"
   ]
  },
  {
   "cell_type": "markdown",
   "id": "59194a05",
   "metadata": {},
   "source": [
    "### Train Test Split"
   ]
  },
  {
   "cell_type": "code",
   "execution_count": 27,
   "id": "530b9832",
   "metadata": {},
   "outputs": [
    {
     "data": {
      "image/png": "[encoded data removed]",
      "text/plain": [
       "<Figure size 432x288 with 1 Axes>"
      ]
     },
     "metadata": {
      "needs_background": "light"
     },
     "output_type": "display_data"
    }
   ],
   "source": [
    "ax = sns.countplot(x=\"Label\", data=data)"
   ]
  },
  {
   "cell_type": "code",
   "execution_count": 29,
   "id": "e6ba268c",
   "metadata": {},
   "outputs": [],
   "source": [
    "rng=np.random.RandomState(2021111)\n",
    "\n",
    "#Slect the test data.\n",
    "test=data.sample(frac=0.25, random_state=rng)\n",
    "\n",
    "#Create boolean mask.\n",
    "train_mask=pd.Series(True, index=data.index)\n",
    "\n",
    "train_mask[test.index] = False\n",
    "\n",
    "train = data[train_mask].copy()"
   ]
  },
  {
   "cell_type": "markdown",
   "id": "cd0d500e",
   "metadata": {},
   "source": [
    "## The Decision Tree\n",
    "\n",
    "#### Preliminary Functions"
   ]
  },
  {
   "cell_type": "code",
   "execution_count": 21,
   "id": "bbefc6e2",
   "metadata": {},
   "outputs": [],
   "source": [
    "def impurity(df, feature, value): # df is a dataframe, feature is the feature name as a string, value is boolean\n",
    "    if len(df[df[feature]==value])==0:\n",
    "        return 1\n",
    "    else:\n",
    "        return 1-(len(df[(df[feature]==value) & (df[\"Label\"]==0)])/len(df[df[feature]==value]))**2-(len(df[(df[feature]==value) & (df[\"Label\"]==1)])/len(df[df[feature]==value]))**2"
   ]
  },
  {
   "cell_type": "code",
   "execution_count": 22,
   "id": "0bb5d358",
   "metadata": {},
   "outputs": [],
   "source": [
    "def weightedImpurity(df, feature):\n",
    "    return (len(df[df[feature]==\"n\"])/len(df))*impurity(df, feature, \"n\")+(len(df[df[feature]==\"y\"])/len(df))*impurity(df, feature, \"y\")"
   ]
  },
  {
   "cell_type": "code",
   "execution_count": 23,
   "id": "d10b0eeb",
   "metadata": {},
   "outputs": [],
   "source": [
    "def purestFeature(df, labelColumnName, columnName):\n",
    "    # Grab features that are not label\n",
    "    features=set(df.columns).difference(set([labelColumnName, columnName]))\n",
    "    # create dict with weighted impurity key and feature value\n",
    "    featureImpurities={}\n",
    "    for feature in features:\n",
    "        featureImpurities[weightedImpurity(df, feature)]=feature\n",
    "        \n",
    "    return featureImpurities[np.array(list(featureImpurities.keys())).min()]"
   ]
  },
  {
   "cell_type": "code",
   "execution_count": 24,
   "id": "bf2bb0de",
   "metadata": {},
   "outputs": [],
   "source": [
    "def isPure(df, labelColumnName):\n",
    "    if (len(df)==df[labelColumnName].sum()) or (df[labelColumnName].sum()==0):\n",
    "        return True\n",
    "    else:\n",
    "        return False"
   ]
  },
  {
   "cell_type": "code",
   "execution_count": 25,
   "id": "8040aaa2",
   "metadata": {},
   "outputs": [],
   "source": [
    "def value(df, labelColumnName):\n",
    "    if not(isPure(df,labelColumnName)): # not pure\n",
    "        num_ones=len(df[df[labelColumnName]==1])\n",
    "        num_zeros=len(df[df[labelColumnName]==0])\n",
    "        if max(num_ones,num_zeros)==num_ones:\n",
    "            return 1\n",
    "        else:\n",
    "            return 0\n",
    "    else: # pure\n",
    "        return df.reset_index()[labelColumnName][0]"
   ]
  },
  {
   "cell_type": "code",
   "execution_count": 26,
   "id": "1aaf0b62",
   "metadata": {},
   "outputs": [],
   "source": [
    "def unreconcilable(df): # needs to be generalized for any df\n",
    "    numFeaturesAllOneValue=0\n",
    "    features=set(df.columns).difference(set([\"Label\"]))\n",
    "    for feature in features:\n",
    "        if (len(df[df[feature]==\"y\"])==0) or (len(df[df[feature]==\"n\"])==0):\n",
    "            numFeaturesAllOneValue+=1\n",
    "    if numFeaturesAllOneValue==len(features):\n",
    "        return True\n",
    "    else:\n",
    "        return False"
   ]
  },
  {
   "cell_type": "markdown",
   "id": "ac7ae8b2",
   "metadata": {},
   "source": [
    "### Fit"
   ]
  },
  {
   "cell_type": "code",
   "execution_count": 31,
   "id": "662d4e87",
   "metadata": {},
   "outputs": [],
   "source": [
    "def Fit(df): # assuming df does not start as pure\n",
    "    tree=Tree()\n",
    "    maxDepth=16 # will need to generalize \n",
    "    tree.create_node(purestFeature(df, \"Label\", \"A\"), \"0\", data=df)\n",
    "    while tree.depth() <= maxDepth:\n",
    "        numTerminalLeaves=0\n",
    "        print(tree.leaves())\n",
    "        for leaf in tree.leaves():\n",
    "            DF=leaf.data\n",
    "            if type(leaf.tag)==type(\"aa\"):\n",
    "                left=DF[DF[leaf.tag]==\"y\"]\n",
    "                if isPure(left,\"Label\") or unreconcilable(left): # if left is terminal\n",
    "                    tree.create_node(value(left, \"Label\"), leaf.identifier+\"y\",parent=leaf.identifier)  #leaf.identifier+\"A\"                  \n",
    "                else:\n",
    "                    tree.create_node(purestFeature(left, \"Label\", leaf.tag), leaf.identifier+\"y\",parent=leaf.identifier, data=left)\n",
    "                \n",
    "                # now do the same for right \n",
    "                right=DF[DF[leaf.tag]==\"n\"]\n",
    "                if isPure(right,\"Label\") or unreconcilable(right): # if right is terminal\n",
    "                    tree.create_node(value(right, \"Label\"), leaf.identifier+\"n\",parent=leaf.identifier)\n",
    "                else:\n",
    "                    tree.create_node(purestFeature(right, \"Label\", leaf.tag), leaf.identifier+\"n\", parent=leaf.identifier, data=right)\n",
    "                \n",
    "            else:\n",
    "                numTerminalLeaves+=1\n",
    "            # check to see if all leaves terminal\n",
    "        if numTerminalLeaves==len(tree.leaves()):\n",
    "            break\n",
    "        continue\n",
    "    return tree"
   ]
  },
  {
   "cell_type": "markdown",
   "id": "a65b54e3",
   "metadata": {},
   "source": [
    "#### Fit the Training Data"
   ]
  },
  {
   "cell_type": "code",
   "execution_count": 30,
   "id": "c7396caf",
   "metadata": {},
   "outputs": [],
   "source": [
    "feature_columns=list(data.columns)\n",
    "feature_columns.remove(\"Label\")"
   ]
  },
  {
   "cell_type": "markdown",
   "id": "76e56334",
   "metadata": {},
   "source": [
    "It is interesting to see the data that is stored in each leaf as the tree is built.  Note that the identifier for each node gives a traversal from the root node labelled \"0\" to a that particular node."
   ]
  },
  {
   "cell_type": "code",
   "execution_count": 32,
   "id": "b8be261f",
   "metadata": {},
   "outputs": [
    {
     "name": "stdout",
     "output_type": "stream",
     "text": [
      "[Node(tag=f4, identifier=0, data=    f1 f2 f3 f4 f5 f6 f7 f8 f9 f10 f11 f12 f13 f14 f15 f16 Label\n",
      "0    n  y  n  y  y  y  n  n  n   y   n   y   y   y   n   y     0\n",
      "2    n  y  n  y  y  y  n  n  n   n   n   n   y   y   n   y     0\n",
      "4    n  y  n  y  y  n  n  n  n   n   n   y   y   y   n   n     0\n",
      "5    n  y  n  y  y  y  n  n  n   n   y   y   y   y   n   y     0\n",
      "7    n  y  n  y  y  y  n  n  n   y   n   y   y   y   n   y     0\n",
      "..  .. .. .. .. .. .. .. .. ..  ..  ..  ..  ..  ..  ..  ..   ...\n",
      "428  n  y  y  n  n  y  y  y  y   n   y   n   n   y   y   y     1\n",
      "430  n  n  y  n  n  n  y  y  n   y   y   n   n   n   y   y     1\n",
      "431  y  n  y  n  n  n  y  y  y   y   n   n   n   n   y   y     1\n",
      "432  y  y  y  n  n  n  y  y  y   y   n   n   y   n   y   y     1\n",
      "434  n  n  y  n  n  n  y  y  y   y   n   n   n   n   n   y     1\n",
      "\n",
      "[326 rows x 17 columns])]\n",
      "[Node(tag=f11, identifier=0y, data=    f1 f2 f3 f4 f5 f6 f7 f8 f9 f10 f11 f12 f13 f14 f15 f16 Label\n",
      "0    n  y  n  y  y  y  n  n  n   y   n   y   y   y   n   y     0\n",
      "2    n  y  n  y  y  y  n  n  n   n   n   n   y   y   n   y     0\n",
      "4    n  y  n  y  y  n  n  n  n   n   n   y   y   y   n   n     0\n",
      "5    n  y  n  y  y  y  n  n  n   n   y   y   y   y   n   y     0\n",
      "7    n  y  n  y  y  y  n  n  n   y   n   y   y   y   n   y     0\n",
      "..  .. .. .. .. .. .. .. .. ..  ..  ..  ..  ..  ..  ..  ..   ...\n",
      "398  n  y  n  y  y  y  n  n  n   n   y   y   n   y   n   n     1\n",
      "402  y  y  n  y  y  y  n  n  n   n   y   n   y   y   n   y     1\n",
      "404  y  y  y  y  y  y  n  n  n   n   y   y   y   y   n   y     1\n",
      "408  n  y  y  y  y  y  n  n  n   n   n   y   y   y   n   y     1\n",
      "418  n  n  n  y  y  y  n  n  n   n   y   y   y   y   n   n     1\n",
      "\n",
      "[141 rows x 17 columns]), Node(tag=f3, identifier=0n, data=    f1 f2 f3 f4 f5 f6 f7 f8 f9 f10 f11 f12 f13 f14 f15 f16 Label\n",
      "92   n  n  n  n  y  y  y  n  n   n   n   y   n   y   y   y     0\n",
      "168  y  y  y  n  y  y  n  n  n   n   y   n   y   y   n   n     1\n",
      "169  n  y  y  n  n  y  n  n  n   n   y   n   y   n   n   y     1\n",
      "170  y  y  y  n  y  y  n  n  n   n   y   n   y   y   y   y     1\n",
      "174  n  y  y  n  n  n  y  y  y   n   n   n   y   n   y   y     1\n",
      "..  .. .. .. .. .. .. .. .. ..  ..  ..  ..  ..  ..  ..  ..   ...\n",
      "428  n  y  y  n  n  y  y  y  y   n   y   n   n   y   y   y     1\n",
      "430  n  n  y  n  n  n  y  y  n   y   y   n   n   n   y   y     1\n",
      "431  y  n  y  n  n  n  y  y  y   y   n   n   n   n   y   y     1\n",
      "432  y  y  y  n  n  n  y  y  y   y   n   n   y   n   y   y     1\n",
      "434  n  n  y  n  n  n  y  y  y   y   n   n   n   n   n   y     1\n",
      "\n",
      "[185 rows x 17 columns])]\n",
      "[Node(tag=f10, identifier=0yy, data=    f1 f2 f3 f4 f5 f6 f7 f8 f9 f10 f11 f12 f13 f14 f15 f16 Label\n",
      "5    n  y  n  y  y  y  n  n  n   n   y   y   y   y   n   y     0\n",
      "19   n  y  n  y  y  y  n  n  n   y   y   y   y   y   n   n     0\n",
      "20   n  y  n  y  y  y  n  n  n   y   y   y   y   y   n   y     0\n",
      "26   n  y  n  y  y  y  y  n  n   n   y   y   y   y   n   y     0\n",
      "28   y  y  y  y  n  n  y  y  y   y   y   n   n   y   n   y     0\n",
      "54   n  y  n  y  y  y  n  n  n   y   y   y   y   n   n   y     0\n",
      "59   n  y  n  y  y  y  n  n  n   y   y   y   y   y   n   y     0\n",
      "62   y  y  n  y  y  y  n  n  n   n   y   y   y   y   n   n     0\n",
      "122  n  y  n  y  y  y  y  y  n   n   y   y   y   y   y   y     0\n",
      "124  n  y  n  y  y  y  n  n  n   n   y   y   y   y   n   n     0\n",
      "127  n  n  n  y  y  y  n  n  n   y   y   y   y   y   n   y     0\n",
      "129  n  n  n  y  y  y  n  n  n   y   y   y   n   y   n   y     0\n",
      "136  n  n  y  y  y  y  y  n  n   y   y   y   y   y   n   y     0\n",
      "141  y  y  n  y  y  y  n  n  n   y   y   n   y   n   n   n     0\n",
      "152  n  y  n  y  y  y  n  n  n   y   y   y   y   y   n   n     0\n",
      "158  n  n  n  y  y  y  n  n  n   n   y   y   y   y   n   y     0\n",
      "165  n  y  n  y  y  y  n  n  n   n   y   y   y   y   n   y     0\n",
      "213  n  y  y  y  y  y  n  n  n   y   y   n   y   y   n   n     1\n",
      "369  y  y  n  y  n  n  y  y  y   n   y   n   n   y   n   y     1\n",
      "384  n  y  n  y  n  y  y  y  y   n   y   n   y   n   y   y     1\n",
      "396  n  y  y  y  y  y  n  n  n   n   y   y   n   y   n   n     1\n",
      "398  n  y  n  y  y  y  n  n  n   n   y   y   n   y   n   n     1\n",
      "402  y  y  n  y  y  y  n  n  n   n   y   n   y   y   n   y     1\n",
      "404  y  y  y  y  y  y  n  n  n   n   y   y   y   y   n   y     1\n",
      "418  n  n  n  y  y  y  n  n  n   n   y   y   y   y   n   n     1), Node(tag=f3, identifier=0yn, data=    f1 f2 f3 f4 f5 f6 f7 f8 f9 f10 f11 f12 f13 f14 f15 f16 Label\n",
      "0    n  y  n  y  y  y  n  n  n   y   n   y   y   y   n   y     0\n",
      "2    n  y  n  y  y  y  n  n  n   n   n   n   y   y   n   y     0\n",
      "4    n  y  n  y  y  n  n  n  n   n   n   y   y   y   n   n     0\n",
      "7    n  y  n  y  y  y  n  n  n   y   n   y   y   y   n   y     0\n",
      "8    n  y  n  y  y  y  n  n  n   n   n   y   y   y   n   n     0\n",
      "..  .. .. .. .. .. .. .. .. ..  ..  ..  ..  ..  ..  ..  ..   ...\n",
      "161  y  y  n  y  y  y  n  n  n   y   n   n   y   y   n   y     0\n",
      "164  n  n  y  y  y  y  n  n  y   y   n   y   y   y   n   y     0\n",
      "166  n  n  n  y  y  y  n  n  n   y   n   y   y   y   n   y     0\n",
      "268  n  n  y  y  y  y  n  n  y   n   n   n   y   y   y   y     1\n",
      "408  n  y  y  y  y  y  n  n  n   n   n   y   y   y   n   y     1\n",
      "\n",
      "[116 rows x 17 columns]), Node(tag=1, identifier=0ny, data=None), Node(tag=f11, identifier=0nn, data=    f1 f2 f3 f4 f5 f6 f7 f8 f9 f10 f11 f12 f13 f14 f15 f16 Label\n",
      "92   n  n  n  n  y  y  y  n  n   n   n   y   n   y   y   y     0\n",
      "228  y  n  n  n  y  y  y  n  n   y   y   n   n   y   n   y     1\n",
      "230  y  n  n  n  y  y  n  n  n   n   y   y   n   y   n   y     1\n",
      "253  y  y  n  n  n  n  y  y  y   y   y   n   n   y   y   y     1\n",
      "254  n  y  n  n  n  y  y  y  y   y   n   n   n   y   n   y     1\n",
      "256  n  n  n  n  n  n  y  y  y   y   n   y   y   y   y   y     1\n",
      "264  n  n  n  n  y  y  y  n  n   n   n   y   y   y   n   y     1\n",
      "266  y  y  n  n  y  y  n  n  n   y   y   y   y   y   n   y     1\n",
      "272  n  n  n  n  y  y  n  n  n   y   y   y   y   y   n   y     1\n",
      "287  n  n  n  n  n  y  y  y  y   n   y   n   n   y   y   y     1\n",
      "353  n  y  n  n  n  n  y  y  y   y   y   n   n   n   y   y     1\n",
      "357  y  n  n  n  n  y  y  y  y   y   n   n   n   y   y   y     1\n",
      "360  n  n  n  n  n  y  n  y  y   n   y   y   y   y   y   n     1\n",
      "390  n  y  n  n  y  y  n  n  n   y   y   n   y   y   n   n     1\n",
      "410  y  y  n  n  n  y  y  n  n   n   y   y   n   y   n   y     1\n",
      "415  y  y  n  n  y  n  n  n  n   n   y   n   y   y   n   y     1)]\n",
      "[Node(tag=1, identifier=0ny, data=None), Node(tag=f3, identifier=0yyy, data=    f1 f2 f3 f4 f5 f6 f7 f8 f9 f10 f11 f12 f13 f14 f15 f16 Label\n",
      "19   n  y  n  y  y  y  n  n  n   y   y   y   y   y   n   n     0\n",
      "20   n  y  n  y  y  y  n  n  n   y   y   y   y   y   n   y     0\n",
      "28   y  y  y  y  n  n  y  y  y   y   y   n   n   y   n   y     0\n",
      "54   n  y  n  y  y  y  n  n  n   y   y   y   y   n   n   y     0\n",
      "59   n  y  n  y  y  y  n  n  n   y   y   y   y   y   n   y     0\n",
      "127  n  n  n  y  y  y  n  n  n   y   y   y   y   y   n   y     0\n",
      "129  n  n  n  y  y  y  n  n  n   y   y   y   n   y   n   y     0\n",
      "136  n  n  y  y  y  y  y  n  n   y   y   y   y   y   n   y     0\n",
      "141  y  y  n  y  y  y  n  n  n   y   y   n   y   n   n   n     0\n",
      "152  n  y  n  y  y  y  n  n  n   y   y   y   y   y   n   n     0\n",
      "213  n  y  y  y  y  y  n  n  n   y   y   n   y   y   n   n     1), Node(tag=f12, identifier=0yyn, data=    f1 f2 f3 f4 f5 f6 f7 f8 f9 f10 f11 f12 f13 f14 f15 f16 Label\n",
      "5    n  y  n  y  y  y  n  n  n   n   y   y   y   y   n   y     0\n",
      "26   n  y  n  y  y  y  y  n  n   n   y   y   y   y   n   y     0\n",
      "62   y  y  n  y  y  y  n  n  n   n   y   y   y   y   n   n     0\n",
      "122  n  y  n  y  y  y  y  y  n   n   y   y   y   y   y   y     0\n",
      "124  n  y  n  y  y  y  n  n  n   n   y   y   y   y   n   n     0\n",
      "158  n  n  n  y  y  y  n  n  n   n   y   y   y   y   n   y     0\n",
      "165  n  y  n  y  y  y  n  n  n   n   y   y   y   y   n   y     0\n",
      "369  y  y  n  y  n  n  y  y  y   n   y   n   n   y   n   y     1\n",
      "384  n  y  n  y  n  y  y  y  y   n   y   n   y   n   y   y     1\n",
      "396  n  y  y  y  y  y  n  n  n   n   y   y   n   y   n   n     1\n",
      "398  n  y  n  y  y  y  n  n  n   n   y   y   n   y   n   n     1\n",
      "402  y  y  n  y  y  y  n  n  n   n   y   n   y   y   n   y     1\n",
      "404  y  y  y  y  y  y  n  n  n   n   y   y   y   y   n   y     1\n",
      "418  n  n  n  y  y  y  n  n  n   n   y   y   y   y   n   n     1), Node(tag=f7, identifier=0yny, data=    f1 f2 f3 f4 f5 f6 f7 f8 f9 f10 f11 f12 f13 f14 f15 f16 Label\n",
      "42   y  y  y  y  y  n  y  n  n   n   n   y   y   y   n   y     0\n",
      "66   y  n  y  y  y  y  y  y  n   y   n   y   n   y   y   y     0\n",
      "69   n  n  y  y  n  n  y  y  y   y   n   n   n   y   y   y     0\n",
      "74   n  y  y  y  y  y  n  n  n   y   n   n   n   y   n   y     0\n",
      "75   n  n  y  y  y  y  y  n  n   n   n   y   y   y   n   y     0\n",
      "85   n  y  y  y  y  y  y  n  y   y   n   y   y   y   n   y     0\n",
      "108  y  n  y  y  y  y  y  y  n   n   n   n   n   y   n   y     0\n",
      "112  n  n  y  y  y  y  n  n  n   y   n   y   y   y   y   y     0\n",
      "121  n  y  y  y  y  y  n  n  n   y   n   y   y   y   n   y     0\n",
      "123  n  y  y  y  y  y  y  n  n   n   n   n   y   y   y   y     0\n",
      "134  n  y  y  y  y  y  y  y  y   n   n   y   y   y   n   y     0\n",
      "135  n  n  y  y  y  y  y  y  y   y   n   y   y   y   y   y     0\n",
      "160  y  y  y  y  y  y  y  y  n   y   n   y   y   y   n   y     0\n",
      "164  n  n  y  y  y  y  n  n  y   y   n   y   y   y   n   y     0\n",
      "268  n  n  y  y  y  y  n  n  y   n   n   n   y   y   y   y     1\n",
      "408  n  y  y  y  y  y  n  n  n   n   n   y   y   y   n   y     1), Node(tag=0, identifier=0ynn, data=None), Node(tag=1, identifier=0nny, data=None), Node(tag=f5, identifier=0nnn, data=    f1 f2 f3 f4 f5 f6 f7 f8 f9 f10 f11 f12 f13 f14 f15 f16 Label\n",
      "92   n  n  n  n  y  y  y  n  n   n   n   y   n   y   y   y     0\n",
      "254  n  y  n  n  n  y  y  y  y   y   n   n   n   y   n   y     1\n",
      "256  n  n  n  n  n  n  y  y  y   y   n   y   y   y   y   y     1\n",
      "264  n  n  n  n  y  y  y  n  n   n   n   y   y   y   n   y     1\n",
      "357  y  n  n  n  n  y  y  y  y   y   n   n   n   y   y   y     1)]\n",
      "[Node(tag=1, identifier=0ny, data=None), Node(tag=0, identifier=0ynn, data=None), Node(tag=1, identifier=0nny, data=None), Node(tag=f16, identifier=0yyyy, data=    f1 f2 f3 f4 f5 f6 f7 f8 f9 f10 f11 f12 f13 f14 f15 f16 Label\n",
      "28   y  y  y  y  n  n  y  y  y   y   y   n   n   y   n   y     0\n",
      "136  n  n  y  y  y  y  y  n  n   y   y   y   y   y   n   y     0\n",
      "213  n  y  y  y  y  y  n  n  n   y   y   n   y   y   n   n     1), Node(tag=0, identifier=0yyyn, data=None), Node(tag=f3, identifier=0yyny, data=    f1 f2 f3 f4 f5 f6 f7 f8 f9 f10 f11 f12 f13 f14 f15 f16 Label\n",
      "5    n  y  n  y  y  y  n  n  n   n   y   y   y   y   n   y     0\n",
      "26   n  y  n  y  y  y  y  n  n   n   y   y   y   y   n   y     0\n",
      "62   y  y  n  y  y  y  n  n  n   n   y   y   y   y   n   n     0\n",
      "122  n  y  n  y  y  y  y  y  n   n   y   y   y   y   y   y     0\n",
      "124  n  y  n  y  y  y  n  n  n   n   y   y   y   y   n   n     0\n",
      "158  n  n  n  y  y  y  n  n  n   n   y   y   y   y   n   y     0\n",
      "165  n  y  n  y  y  y  n  n  n   n   y   y   y   y   n   y     0\n",
      "396  n  y  y  y  y  y  n  n  n   n   y   y   n   y   n   n     1\n",
      "398  n  y  n  y  y  y  n  n  n   n   y   y   n   y   n   n     1\n",
      "404  y  y  y  y  y  y  n  n  n   n   y   y   y   y   n   y     1\n",
      "418  n  n  n  y  y  y  n  n  n   n   y   y   y   y   n   n     1), Node(tag=1, identifier=0yynn, data=None), Node(tag=0, identifier=0ynyy, data=None), Node(tag=f10, identifier=0ynyn, data=    f1 f2 f3 f4 f5 f6 f7 f8 f9 f10 f11 f12 f13 f14 f15 f16 Label\n",
      "74   n  y  y  y  y  y  n  n  n   y   n   n   n   y   n   y     0\n",
      "112  n  n  y  y  y  y  n  n  n   y   n   y   y   y   y   y     0\n",
      "121  n  y  y  y  y  y  n  n  n   y   n   y   y   y   n   y     0\n",
      "164  n  n  y  y  y  y  n  n  y   y   n   y   y   y   n   y     0\n",
      "268  n  n  y  y  y  y  n  n  y   n   n   n   y   y   y   y     1\n",
      "408  n  y  y  y  y  y  n  n  n   n   n   y   y   y   n   y     1), Node(tag=f13, identifier=0nnny, data=    f1 f2 f3 f4 f5 f6 f7 f8 f9 f10 f11 f12 f13 f14 f15 f16 Label\n",
      "92   n  n  n  n  y  y  y  n  n   n   n   y   n   y   y   y     0\n",
      "264  n  n  n  n  y  y  y  n  n   n   n   y   y   y   n   y     1), Node(tag=1, identifier=0nnnn, data=None)]\n",
      "[Node(tag=1, identifier=0ny, data=None), Node(tag=0, identifier=0ynn, data=None), Node(tag=1, identifier=0nny, data=None), Node(tag=0, identifier=0yyyn, data=None), Node(tag=1, identifier=0yynn, data=None), Node(tag=0, identifier=0ynyy, data=None), Node(tag=1, identifier=0nnnn, data=None), Node(tag=0, identifier=0yyyyy, data=None), Node(tag=1, identifier=0yyyyn, data=None), Node(tag=1, identifier=0yynyy, data=None), Node(tag=f13, identifier=0yynyn, data=    f1 f2 f3 f4 f5 f6 f7 f8 f9 f10 f11 f12 f13 f14 f15 f16 Label\n",
      "5    n  y  n  y  y  y  n  n  n   n   y   y   y   y   n   y     0\n",
      "26   n  y  n  y  y  y  y  n  n   n   y   y   y   y   n   y     0\n",
      "62   y  y  n  y  y  y  n  n  n   n   y   y   y   y   n   n     0\n",
      "122  n  y  n  y  y  y  y  y  n   n   y   y   y   y   y   y     0\n",
      "124  n  y  n  y  y  y  n  n  n   n   y   y   y   y   n   n     0\n",
      "158  n  n  n  y  y  y  n  n  n   n   y   y   y   y   n   y     0\n",
      "165  n  y  n  y  y  y  n  n  n   n   y   y   y   y   n   y     0\n",
      "398  n  y  n  y  y  y  n  n  n   n   y   y   n   y   n   n     1\n",
      "418  n  n  n  y  y  y  n  n  n   n   y   y   y   y   n   n     1), Node(tag=0, identifier=0ynyny, data=None), Node(tag=1, identifier=0ynynn, data=None), Node(tag=1, identifier=0nnnyy, data=None), Node(tag=0, identifier=0nnnyn, data=None)]\n",
      "[Node(tag=1, identifier=0ny, data=None), Node(tag=0, identifier=0ynn, data=None), Node(tag=1, identifier=0nny, data=None), Node(tag=0, identifier=0yyyn, data=None), Node(tag=1, identifier=0yynn, data=None), Node(tag=0, identifier=0ynyy, data=None), Node(tag=1, identifier=0nnnn, data=None), Node(tag=0, identifier=0yyyyy, data=None), Node(tag=1, identifier=0yyyyn, data=None), Node(tag=1, identifier=0yynyy, data=None), Node(tag=0, identifier=0ynyny, data=None), Node(tag=1, identifier=0ynynn, data=None), Node(tag=1, identifier=0nnnyy, data=None), Node(tag=0, identifier=0nnnyn, data=None), Node(tag=f2, identifier=0yynyny, data=    f1 f2 f3 f4 f5 f6 f7 f8 f9 f10 f11 f12 f13 f14 f15 f16 Label\n",
      "5    n  y  n  y  y  y  n  n  n   n   y   y   y   y   n   y     0\n",
      "26   n  y  n  y  y  y  y  n  n   n   y   y   y   y   n   y     0\n",
      "62   y  y  n  y  y  y  n  n  n   n   y   y   y   y   n   n     0\n",
      "122  n  y  n  y  y  y  y  y  n   n   y   y   y   y   y   y     0\n",
      "124  n  y  n  y  y  y  n  n  n   n   y   y   y   y   n   n     0\n",
      "158  n  n  n  y  y  y  n  n  n   n   y   y   y   y   n   y     0\n",
      "165  n  y  n  y  y  y  n  n  n   n   y   y   y   y   n   y     0\n",
      "418  n  n  n  y  y  y  n  n  n   n   y   y   y   y   n   n     1), Node(tag=1, identifier=0yynynn, data=None)]\n",
      "[Node(tag=1, identifier=0ny, data=None), Node(tag=0, identifier=0ynn, data=None), Node(tag=1, identifier=0nny, data=None), Node(tag=0, identifier=0yyyn, data=None), Node(tag=1, identifier=0yynn, data=None), Node(tag=0, identifier=0ynyy, data=None), Node(tag=1, identifier=0nnnn, data=None), Node(tag=0, identifier=0yyyyy, data=None), Node(tag=1, identifier=0yyyyn, data=None), Node(tag=1, identifier=0yynyy, data=None), Node(tag=0, identifier=0ynyny, data=None), Node(tag=1, identifier=0ynynn, data=None), Node(tag=1, identifier=0nnnyy, data=None), Node(tag=0, identifier=0nnnyn, data=None), Node(tag=1, identifier=0yynynn, data=None), Node(tag=0, identifier=0yynynyy, data=None), Node(tag=f16, identifier=0yynynyn, data=    f1 f2 f3 f4 f5 f6 f7 f8 f9 f10 f11 f12 f13 f14 f15 f16 Label\n",
      "158  n  n  n  y  y  y  n  n  n   n   y   y   y   y   n   y     0\n",
      "418  n  n  n  y  y  y  n  n  n   n   y   y   y   y   n   n     1)]\n",
      "[Node(tag=1, identifier=0ny, data=None), Node(tag=0, identifier=0ynn, data=None), Node(tag=1, identifier=0nny, data=None), Node(tag=0, identifier=0yyyn, data=None), Node(tag=1, identifier=0yynn, data=None), Node(tag=0, identifier=0ynyy, data=None), Node(tag=1, identifier=0nnnn, data=None), Node(tag=0, identifier=0yyyyy, data=None), Node(tag=1, identifier=0yyyyn, data=None), Node(tag=1, identifier=0yynyy, data=None), Node(tag=0, identifier=0ynyny, data=None), Node(tag=1, identifier=0ynynn, data=None), Node(tag=1, identifier=0nnnyy, data=None), Node(tag=0, identifier=0nnnyn, data=None), Node(tag=1, identifier=0yynynn, data=None), Node(tag=0, identifier=0yynynyy, data=None), Node(tag=0, identifier=0yynynyny, data=None), Node(tag=1, identifier=0yynynynn, data=None)]\n"
     ]
    }
   ],
   "source": [
    "T=Fit(train)"
   ]
  },
  {
   "cell_type": "markdown",
   "id": "c065f661",
   "metadata": {},
   "source": [
    "### Predict\n",
    "\n",
    "My evaluate function iteratively builds the identifier for the leaf node that contains the predicted label for a particular observation."
   ]
  },
  {
   "cell_type": "code",
   "execution_count": 61,
   "id": "19d6d8d0",
   "metadata": {},
   "outputs": [],
   "source": [
    "def evaluate(tree, df, rowIndex):\n",
    "    id=\"0\"\n",
    "    while type(tree.get_node(id).tag)==type(\"aa\"):\n",
    "        id+=df.iloc[rowIndex][tree.get_node(id).tag]\n",
    "    \n",
    "    return tree.get_node(id).tag"
   ]
  },
  {
   "cell_type": "code",
   "execution_count": 62,
   "id": "e5141485",
   "metadata": {},
   "outputs": [],
   "source": [
    "def Predict(tree, df):\n",
    "    predList=[]\n",
    "    for rowIndex in df.index:\n",
    "        predList.append(evaluate(tree, df, rowIndex))    \n",
    "    return np.array(predList)"
   ]
  },
  {
   "cell_type": "code",
   "execution_count": 63,
   "id": "72cdb390",
   "metadata": {},
   "outputs": [],
   "source": [
    "y_pred=Predict(T, test)\n",
    "y_test=test[\"Label\"].to_numpy()"
   ]
  },
  {
   "cell_type": "markdown",
   "id": "967baf2b",
   "metadata": {},
   "source": [
    "### Accuracy"
   ]
  },
  {
   "cell_type": "code",
   "execution_count": 64,
   "id": "8167636d",
   "metadata": {},
   "outputs": [
    {
     "data": {
      "text/plain": [
       "0.9357798165137615"
      ]
     },
     "execution_count": 64,
     "metadata": {},
     "output_type": "execute_result"
    }
   ],
   "source": [
    "(y_pred==y_test).sum()/len(y_test)"
   ]
  },
  {
   "cell_type": "markdown",
   "id": "7aa7ee92",
   "metadata": {},
   "source": [
    "## Sci-Kit Learn's Decision Tree"
   ]
  },
  {
   "cell_type": "markdown",
   "id": "6cb164cc",
   "metadata": {},
   "source": [
    "#### Convert \"y\" and \"n\" to 1 and 0 "
   ]
  },
  {
   "cell_type": "code",
   "execution_count": 53,
   "id": "f29e400c",
   "metadata": {},
   "outputs": [
    {
     "data": {
      "text/plain": [
       "OrdinalEncoder()"
      ]
     },
     "execution_count": 53,
     "metadata": {},
     "output_type": "execute_result"
    }
   ],
   "source": [
    "ordEncoder=OrdinalEncoder()\n",
    "ordEncoder.fit(data)"
   ]
  },
  {
   "cell_type": "code",
   "execution_count": 54,
   "id": "22f64648",
   "metadata": {},
   "outputs": [],
   "source": [
    "data=pd.DataFrame(ordEncoder.transform(data), columns=data.columns)"
   ]
  },
  {
   "cell_type": "code",
   "execution_count": 55,
   "id": "26aafb00",
   "metadata": {},
   "outputs": [],
   "source": [
    "feature_columns=list(data.columns)\n",
    "feature_columns.remove(\"Label\")\n",
    "X=data[feature_columns]\n",
    "y=data.Label"
   ]
  },
  {
   "cell_type": "code",
   "execution_count": 56,
   "id": "6242c4c6",
   "metadata": {},
   "outputs": [],
   "source": [
    "X_train,X_test,y_train,y_test=train_test_split(X, y, test_size=0.25, random_state=25)"
   ]
  },
  {
   "cell_type": "code",
   "execution_count": 57,
   "id": "5cae681d",
   "metadata": {},
   "outputs": [],
   "source": [
    "decisionTree=DecisionTreeClassifier()"
   ]
  },
  {
   "cell_type": "code",
   "execution_count": 58,
   "id": "c263f834",
   "metadata": {},
   "outputs": [
    {
     "data": {
      "text/plain": [
       "DecisionTreeClassifier()"
      ]
     },
     "execution_count": 58,
     "metadata": {},
     "output_type": "execute_result"
    }
   ],
   "source": [
    "decisionTree.fit(X_train, y_train)"
   ]
  },
  {
   "cell_type": "code",
   "execution_count": 59,
   "id": "ef1215bc",
   "metadata": {},
   "outputs": [],
   "source": [
    "y_pred=decisionTree.predict(X_test)"
   ]
  },
  {
   "cell_type": "markdown",
   "id": "60c3de3d",
   "metadata": {},
   "source": [
    "#### Accuracy"
   ]
  },
  {
   "cell_type": "code",
   "execution_count": 60,
   "id": "dcb60941",
   "metadata": {},
   "outputs": [
    {
     "data": {
      "text/plain": [
       "0.9541284403669725"
      ]
     },
     "execution_count": 60,
     "metadata": {},
     "output_type": "execute_result"
    }
   ],
   "source": [
    "(y_pred==y_test).sum()/len(y_test)"
   ]
  },
  {
   "cell_type": "code",
   "execution_count": null,
   "id": "48e39c5e",
   "metadata": {},
   "outputs": [],
   "source": []
  }
 ],
 "metadata": {
  "kernelspec": {
   "display_name": "Python 3 (ipykernel)",
   "language": "python",
   "name": "python3"
  },
  "language_info": {
   "codemirror_mode": {
    "name": "ipython",
    "version": 3
   },
   "file_extension": ".py",
   "mimetype": "text/x-python",
   "name": "python",
   "nbconvert_exporter": "python",
   "pygments_lexer": "ipython3",
   "version": "3.9.12"
  }
 },
 "nbformat": 4,
 "nbformat_minor": 5
}
